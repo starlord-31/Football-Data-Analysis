{
 "cells": [
  {
   "cell_type": "markdown",
   "metadata": {
    "id": "wnIVo7e1YuUW"
   },
   "source": [
    "# Sports Analytics for EPL Report\n",
    "\n",
    "\n",
    "\n",
    "## Contributors:\n",
    "* Ghizlane Rehioui\n",
    "* Yashwanth Reddy\n",
    "* Taahaa Dawe\n",
    "* Dhruv Gupta\n",
    "\n"
   ]
  },
  {
   "cell_type": "markdown",
   "metadata": {},
   "source": [
    "# Introduction\n",
    "In the world of football analysis, data is the key to unlocking the game's secrets. This report focuses on our use of data from the reputable FBRef website (https://fbref.com/en/) to delve into the Premier League, covering the seasons from 2016-17 to 2023-24.\n",
    "\n",
    "Our analysis goes beyond traditional points tables, delving into team performance metrics and shooting statistics for each match. With this extensive dataset, we aim to uncover the strategies, player performance, and dynamics that have shaped Premier League football.\n",
    "\n",
    "In the following pages, we will explore trends, anomalies, and insights from seven seasons of Premier League action. This report serves as a valuable resource for football enthusiasts and analysts alike, highlighting the power of data in understanding the beautiful game. Join us on this data-driven journey through the heart of Premier League football!"
   ]
  },
  {
   "cell_type": "markdown",
   "metadata": {},
   "source": [
    "# Column Description\n",
    "\n",
    "The scraped data consists of 27 columns:\n",
    "* 'date': Date of the match\n",
    "* 'time': Time of match\n",
    "* 'comp': Competition name\n",
    "* 'round': Matchweek number\n",
    "* 'day': Day of the week\n",
    "* 'venue': Where the game is played (Away or Home)\n",
    "* 'result': W for Win, D for Draw, and L for Loss\n",
    "* 'goals_scored': Number of goals scored\n",
    "* 'goals_conceded': Number of goals conceded\n",
    "* 'opponent': Opponent team name\n",
    "* 'expected_goals': Expected goals to score\n",
    "* 'expected_assists': Expected assists provided\n",
    "* 'possession': Duration for which the team had the ball possession\n",
    "* 'attendance': Count of audience\n",
    "* 'captain': Captain of team\n",
    "* 'formation': Team formation\n",
    "* 'referee': Referee name\n",
    "* 'shots': Shots taken by team\n",
    "* 'shots_on_target': Shots on target by team\n",
    "* 'avg_shot_distance': Average shot distance\n",
    "* 'freekicks': Freekicks taken\n",
    "* 'penaltykicks': Penalties taken\n",
    "* 'penaltykicks_opponent': Penalties given to opponent \n",
    "* 'season': Season year\n",
    "* 'team': Team \n"
   ]
  },
  {
   "cell_type": "markdown",
   "metadata": {
    "id": "wUT-G0w2hA1b"
   },
   "source": [
    "# Statement of the questions of interest\n",
    "\n",
    "1.   Do the teams perform better at home or away?\n",
    "2.   Which team are in the top 5% based on their wins?\n",
    "3.   Total goals per season for the 5 best teams and their average in each season\n",
    "\n",
    "First and foremost, before doing any analyis, it is important to acknowledge that we might encounter some biases in our analysis."
   ]
  },
  {
   "cell_type": "markdown",
   "metadata": {
    "id": "V3atq46ZhWez"
   },
   "source": [
    "# Possible sources of bias\n",
    "## Biases from web scraped data\n",
    "Web scraping may be a great way to quickly access real time data. However, we might run into issues such as the untimely updates of important information, which could potentially lead to misinterpretations. Another possible source of bias would be to ask if the period between 2017-2023 is truly representative of the teams' performance or success.\n",
    "\n",
    "## Biases related to Football as a game\n",
    "Football is a highly *unpredictable* game. Due to the low scoring nature of the sport, a 'less qualified' team can easily win against a much more talented team. It is also easier to catch up in terms of points. Additionally, a simple mistake from a defender or keeper may be an easy opportunity for the opponent to score and win a match, especially during extra time. \n",
    "\n",
    "In addition to the low scoring nature of Football, Referee bias is a popular theory among Football fans, hypothesizing that referees play a huge role in the match, either favoring for or against a team. In fact, some fans strongly believe that that some referees turn a blind eye on some penalties, which could have made some teams easily qualify given that the opponent's team does not have a good goalkeeper. Other biases include seasonal bias or team/player bias related to the scouted or players involved in the match. \n",
    "\n",
    "## Choice of metrics - Measurement Bias\n",
    "The choice of the metrics, i.e. the domain or industry knowledge, that drive our analysis or conclusions is crucial. In other words, the standardized matrics or parameters used in Football Analytics should be respected and using other metrics may lead to misinterpretations.\n",
    "\n",
    "## Omitted variable bias \n",
    "In our analysis, we might fall into ommitted variable bias where we disregard some critical attributes that influence the outcome are missing."
   ]
  },
  {
   "cell_type": "code",
   "execution_count": 31,
   "metadata": {
    "colab": {
     "base_uri": "https://localhost:8080/"
    },
    "id": "8ifSxWlEvWbY",
    "outputId": "8dff6d65-9057-444f-8f68-1e667473b92f"
   },
   "outputs": [
    {
     "name": "stdout",
     "output_type": "stream",
     "text": [
      "Requirement already satisfied: pandasql in c:\\users\\hp\\anaconda3\\lib\\site-packages (0.7.3)\n",
      "Requirement already satisfied: sqlalchemy in c:\\users\\hp\\anaconda3\\lib\\site-packages (from pandasql) (1.4.32)\n",
      "Requirement already satisfied: numpy in c:\\users\\hp\\anaconda3\\lib\\site-packages (from pandasql) (1.21.5)\n",
      "Requirement already satisfied: pandas in c:\\users\\hp\\anaconda3\\lib\\site-packages (from pandasql) (1.4.2)\n",
      "Requirement already satisfied: pytz>=2020.1 in c:\\users\\hp\\anaconda3\\lib\\site-packages (from pandas->pandasql) (2021.3)\n",
      "Requirement already satisfied: python-dateutil>=2.8.1 in c:\\users\\hp\\anaconda3\\lib\\site-packages (from pandas->pandasql) (2.8.2)\n",
      "Requirement already satisfied: six>=1.5 in c:\\users\\hp\\anaconda3\\lib\\site-packages (from python-dateutil>=2.8.1->pandas->pandasql) (1.16.0)\n",
      "Requirement already satisfied: greenlet!=0.4.17 in c:\\users\\hp\\anaconda3\\lib\\site-packages (from sqlalchemy->pandasql) (1.1.1)\n"
     ]
    }
   ],
   "source": [
    "!pip install pandasql"
   ]
  },
  {
   "cell_type": "code",
   "execution_count": 32,
   "metadata": {
    "id": "VtLiDgTZYtAA"
   },
   "outputs": [],
   "source": [
    "# Import the necessary libraries\n",
    "import pandas as pd\n",
    "import numpy as np\n",
    "import matplotlib as plot\n",
    "import matplotlib.pyplot as plt\n",
    "import seaborn as sb\n",
    "from pandasql import sqldf\n"
   ]
  },
  {
   "cell_type": "markdown",
   "metadata": {
    "id": "N7sJjd4PbBUU"
   },
   "source": [
    "# Data scraping code"
   ]
  },
  {
   "cell_type": "markdown",
   "metadata": {},
   "source": [
    "The data utilized for this analysis was scraped from the FBRef website (https://fbref.com/en/), a reputable source for football statistics and history. \n",
    "The focus of this project was on gathering and analyzing individual team match data from the Premier League, spanning from the 2016-17 season to the current season, 2023-24. \n",
    "In addition to the points table information, we also retrieved crucial shooting statistics for each team in every match from the shooting table. \n",
    "This comprehensive dataset allows for a detailed exploration of team performance metrics and shooting proficiency within the Premier League during the specified timeframe.\n",
    "\n",
    "**NOTE: The following section contains the craping code as a markdown because scraping takes more than one hour.**  "
   ]
  },
  {
   "cell_type": "markdown",
   "metadata": {},
   "source": [
    "### Scraping page with requests"
   ]
  },
  {
   "cell_type": "markdown",
   "metadata": {},
   "source": [
    "import requests\n",
    "standings_url = \"https://fbref.com/en/comps/9/Premier-League-Stats\"\n",
    "\n",
    "* Download the page\n",
    "data = requests.get(standings_url)\n",
    "\n",
    "print(data) # The response should be '200'. If it gives '429', then try again later as it is rate limiting."
   ]
  },
  {
   "cell_type": "markdown",
   "metadata": {},
   "source": [
    "### Parsing HTML links with BeautifulSoup"
   ]
  },
  {
   "cell_type": "markdown",
   "metadata": {},
   "source": [
    "from bs4 import BeautifulSoup\n",
    "\n",
    "import time\n",
    "\n",
    "#Giving the browser time to complete the action and then come up with new sourcecode before reading it using beautifulsoup\n",
    "\n",
    "soup = BeautifulSoup(data.text)\n",
    "\n",
    "standings_table = soup.select('table.stats_table')[0]\n",
    "\n",
    "links = standings_table.find_all('a')\n",
    "\n",
    "links = [l.get(\"href\") for l in links]\n",
    "\n",
    "links = [l for l in links if '/squads/' in l]\n",
    "\n",
    "team_urls = [f\"https://fbref.com{l}\" for l in links]"
   ]
  },
  {
   "cell_type": "markdown",
   "metadata": {},
   "source": [
    "### Extracting match stats using pandas and requests"
   ]
  },
  {
   "cell_type": "markdown",
   "metadata": {},
   "source": [
    "data = requests.get(team_urls[0])\n",
    "\n",
    "import pandas as pd\n",
    "\n",
    "matches = pd.read_html(data.text, match=\"Scores & Fixtures\")[0]\n",
    "\n",
    "### Getting match shooting stats with requests and pandas\n",
    "\n",
    "soup = BeautifulSoup(data.text)\n",
    "\n",
    "links = soup.find_all('a')\n",
    "\n",
    "links = [l.get(\"href\") for l in links]\n",
    "\n",
    "links = [l for l in links if l and 'all_comps/shooting/' in l]\n",
    "\n",
    "data = requests.get(f\"https://fbref.com{links[0]}\")\n",
    "\n",
    "shooting = pd.read_html(data.text, match=\"Shooting\")[0]\n",
    "\n",
    "shooting.head()"
   ]
  },
  {
   "cell_type": "markdown",
   "metadata": {},
   "source": [
    "# Cleaning and merging scraped data with pandas\n",
    "\n",
    "shooting.columns = shooting.columns.droplevel()\n",
    "\n",
    "team_data = matches.merge(shooting[[\"Date\", \"Sh\", \"SoT\", \"Dist\", \"FK\", \"PK\", \"PKatt\"]], on=\"Date\")\n",
    "\n",
    "team_data.head()\n",
    "\n",
    "### Scraping data for multiple seasons and teams with a loop\n",
    "\n",
    "from datetime import datetime\n",
    "\n",
    "current_year = datetime.now().year\n",
    "\n",
    "years = list(range(current_year, 2016, -1))\n",
    "\n",
    "all_matches = []\n",
    "\n",
    "years #The year'2016' is actually the season '2015-2016'. We use this everywhere which makes working with the data easier.\n",
    "\n",
    "standings_url = \"https://fbref.com/en/comps/9/Premier-League-Stats\"\n",
    "\n",
    "for year in years:\n",
    "    \n",
    "    data = requests.get(standings_url)\n",
    "\n",
    "    soup = BeautifulSoup(data.text)\n",
    "    \n",
    "    standings_table = soup.select('table.stats_table')[0]\n",
    "    \n",
    "    links = [l.get(\"href\") for l in standings_table.find_all('a')]\n",
    "    \n",
    "    links = [l for l in links if '/squads/' in l]\n",
    "    \n",
    "    team_urls = [f\"https://fbref.com{l}\" for l in links]\n",
    "    \n",
    "    previous_season = soup.select(\"a.prev\")[0].get(\"href\")\n",
    "    \n",
    "    standings_url = f\"https://fbref.com{previous_season}\"\n",
    "    \n",
    "    for team_url in team_urls:\n",
    "    \n",
    "        team_name = team_url.split(\"/\")[-1].replace(\"-Stats\", \"\").replace(\"-\", \" \")\n",
    "        \n",
    "        data = requests.get(team_url)\n",
    "        \n",
    "        matches = pd.read_html(data.text, match=\"Scores & Fixtures\")[0]\n",
    "        \n",
    "        soup = BeautifulSoup(data.text)\n",
    "        \n",
    "        links = [l.get(\"href\") for l in soup.find_all('a')]\n",
    "        \n",
    "        links = [l for l in links if l and 'all_comps/shooting/' in l]\n",
    "        \n",
    "        data = requests.get(f\"https://fbref.com{links[0]}\")\n",
    "        \n",
    "        shooting = pd.read_html(data.text, match=\"Shooting\")[0]\n",
    "        \n",
    "        shooting.columns = shooting.columns.droplevel()\n",
    "        \n",
    "        try:\n",
    "        \n",
    "            team_data = matches.merge(shooting[[\"Date\", \"Sh\", \"SoT\", \"Dist\", \"FK\", \"PK\", \"PKatt\"]], on=\"Date\")\n",
    "        except ValueError:\n",
    "        \n",
    "            continue\n",
    "            \n",
    "        team_data = team_data[team_data[\"Comp\"] == \"Premier League\"]\n",
    "        \n",
    "        team_data[\"Season\"] = year\n",
    "        \n",
    "        team_data[\"Team\"] = team_name\n",
    "        \n",
    "        all_matches.append(team_data)\n",
    "        \n",
    "        time.sleep(1)\n",
    "        \n",
    "        \n",
    "len(all_matches)\n",
    "\n",
    "match_df = pd.concat(all_matches) # Combining the individual dataframes into a single dataframe\n",
    "\n",
    "### Data Cleaning\n",
    "\n",
    "match_df.columns = [c.lower() for c in match_df.columns]\n",
    "\n",
    "match_df.head()\n",
    "\n",
    "match_df.shape\n",
    "\n",
    "match_df[\"team\"].value_counts()\n",
    "\n",
    "match_df.isnull().sum()\n",
    "\n",
    "match_df.columns\n",
    "\n",
    "match_df.rename(columns = {'gf':'goals_scored', \n",
    "                'ga':'goals_conceded', \n",
    "                'xg':'expected_goals', \n",
    "                'xga':'expected_assists', \n",
    "                'poss':'possession', \n",
    "                'sh':'shots',\n",
    "                'sot':'shots_on_target',\n",
    "                'dist':'avg_shot_distance',\n",
    "                'fk':'freekicks',\n",
    "                'pk':'penaltykicks',\n",
    "                'pkatt':'penaltykicks_opponent'},\n",
    "                inplace=True\n",
    "               )\n",
    "\n",
    "match_df.head()   \n",
    "\n",
    "match_df.drop(columns=['notes', 'match report'], inplace=True)\n",
    "\n",
    "match_df.isnull().sum()\n",
    "\n",
    "match_df.dtypes\n",
    "\n",
    "match_df[[\"goals_scored\", \"goals_conceded\"]] = match_df[[\"goals_scored\", \"goals_conceded\"]].astype(int)\n",
    "\n",
    "match_df.dtypes\n",
    "\n",
    "match_df\n",
    "\n",
    "match_df.to_csv(\"matches.csv\")"
   ]
  },
  {
   "cell_type": "markdown",
   "metadata": {},
   "source": [
    "### End Of Web Scrapping Code"
   ]
  },
  {
   "cell_type": "markdown",
   "metadata": {
    "id": "L04nCR9paoRL"
   },
   "source": [
    "# Data Cleaning"
   ]
  },
  {
   "cell_type": "code",
   "execution_count": 4,
   "metadata": {
    "colab": {
     "base_uri": "https://localhost:8080/",
     "height": 259
    },
    "id": "Uc_-o7pMa8DJ",
    "outputId": "8a54e6b9-e029-4c5e-e7f1-171dbd2511c1"
   },
   "outputs": [
    {
     "data": {
      "text/html": [
       "<div>\n",
       "<style scoped>\n",
       "    .dataframe tbody tr th:only-of-type {\n",
       "        vertical-align: middle;\n",
       "    }\n",
       "\n",
       "    .dataframe tbody tr th {\n",
       "        vertical-align: top;\n",
       "    }\n",
       "\n",
       "    .dataframe thead th {\n",
       "        text-align: right;\n",
       "    }\n",
       "</style>\n",
       "<table border=\"1\" class=\"dataframe\">\n",
       "  <thead>\n",
       "    <tr style=\"text-align: right;\">\n",
       "      <th></th>\n",
       "      <th>Unnamed: 0</th>\n",
       "      <th>date</th>\n",
       "      <th>time</th>\n",
       "      <th>comp</th>\n",
       "      <th>round</th>\n",
       "      <th>day</th>\n",
       "      <th>venue</th>\n",
       "      <th>result</th>\n",
       "      <th>goals_scored</th>\n",
       "      <th>goals_conceded</th>\n",
       "      <th>...</th>\n",
       "      <th>formation</th>\n",
       "      <th>referee</th>\n",
       "      <th>shots</th>\n",
       "      <th>shots_on_target</th>\n",
       "      <th>avg_shot_distance</th>\n",
       "      <th>freekicks</th>\n",
       "      <th>penaltykicks</th>\n",
       "      <th>penaltykicks_opponent</th>\n",
       "      <th>season</th>\n",
       "      <th>team</th>\n",
       "    </tr>\n",
       "  </thead>\n",
       "  <tbody>\n",
       "    <tr>\n",
       "      <th>0</th>\n",
       "      <td>1</td>\n",
       "      <td>2023-08-11</td>\n",
       "      <td>20:00</td>\n",
       "      <td>Premier League</td>\n",
       "      <td>Matchweek 1</td>\n",
       "      <td>Fri</td>\n",
       "      <td>Away</td>\n",
       "      <td>W</td>\n",
       "      <td>3.0</td>\n",
       "      <td>0.0</td>\n",
       "      <td>...</td>\n",
       "      <td>4-2-3-1</td>\n",
       "      <td>Craig Pawson</td>\n",
       "      <td>17.0</td>\n",
       "      <td>8.0</td>\n",
       "      <td>13.9</td>\n",
       "      <td>0.0</td>\n",
       "      <td>0.0</td>\n",
       "      <td>0.0</td>\n",
       "      <td>2023</td>\n",
       "      <td>Manchester City</td>\n",
       "    </tr>\n",
       "    <tr>\n",
       "      <th>1</th>\n",
       "      <td>3</td>\n",
       "      <td>2023-08-19</td>\n",
       "      <td>20:00</td>\n",
       "      <td>Premier League</td>\n",
       "      <td>Matchweek 2</td>\n",
       "      <td>Sat</td>\n",
       "      <td>Home</td>\n",
       "      <td>W</td>\n",
       "      <td>1.0</td>\n",
       "      <td>0.0</td>\n",
       "      <td>...</td>\n",
       "      <td>4-2-3-1</td>\n",
       "      <td>Robert Jones</td>\n",
       "      <td>14.0</td>\n",
       "      <td>4.0</td>\n",
       "      <td>17.9</td>\n",
       "      <td>0.0</td>\n",
       "      <td>0.0</td>\n",
       "      <td>0.0</td>\n",
       "      <td>2023</td>\n",
       "      <td>Manchester City</td>\n",
       "    </tr>\n",
       "    <tr>\n",
       "      <th>2</th>\n",
       "      <td>4</td>\n",
       "      <td>2023-08-27</td>\n",
       "      <td>14:00</td>\n",
       "      <td>Premier League</td>\n",
       "      <td>Matchweek 3</td>\n",
       "      <td>Sun</td>\n",
       "      <td>Away</td>\n",
       "      <td>W</td>\n",
       "      <td>2.0</td>\n",
       "      <td>1.0</td>\n",
       "      <td>...</td>\n",
       "      <td>4-2-3-1</td>\n",
       "      <td>Jarred Gillett</td>\n",
       "      <td>29.0</td>\n",
       "      <td>9.0</td>\n",
       "      <td>17.3</td>\n",
       "      <td>2.0</td>\n",
       "      <td>0.0</td>\n",
       "      <td>1.0</td>\n",
       "      <td>2023</td>\n",
       "      <td>Manchester City</td>\n",
       "    </tr>\n",
       "  </tbody>\n",
       "</table>\n",
       "<p>3 rows × 26 columns</p>\n",
       "</div>"
      ],
      "text/plain": [
       "   Unnamed: 0        date   time            comp        round  day venue  \\\n",
       "0           1  2023-08-11  20:00  Premier League  Matchweek 1  Fri  Away   \n",
       "1           3  2023-08-19  20:00  Premier League  Matchweek 2  Sat  Home   \n",
       "2           4  2023-08-27  14:00  Premier League  Matchweek 3  Sun  Away   \n",
       "\n",
       "  result  goals_scored  goals_conceded  ... formation         referee  shots  \\\n",
       "0      W           3.0             0.0  ...   4-2-3-1    Craig Pawson   17.0   \n",
       "1      W           1.0             0.0  ...   4-2-3-1    Robert Jones   14.0   \n",
       "2      W           2.0             1.0  ...   4-2-3-1  Jarred Gillett   29.0   \n",
       "\n",
       "   shots_on_target  avg_shot_distance freekicks penaltykicks  \\\n",
       "0              8.0               13.9       0.0          0.0   \n",
       "1              4.0               17.9       0.0          0.0   \n",
       "2              9.0               17.3       2.0          0.0   \n",
       "\n",
       "  penaltykicks_opponent  season             team  \n",
       "0                   0.0    2023  Manchester City  \n",
       "1                   0.0    2023  Manchester City  \n",
       "2                   1.0    2023  Manchester City  \n",
       "\n",
       "[3 rows x 26 columns]"
      ]
     },
     "execution_count": 4,
     "metadata": {},
     "output_type": "execute_result"
    }
   ],
   "source": [
    "# Read in the data\n",
    "df = pd.read_csv('matches.csv')\n",
    "df.head(3)"
   ]
  },
  {
   "cell_type": "code",
   "execution_count": 5,
   "metadata": {
    "colab": {
     "base_uri": "https://localhost:8080/"
    },
    "id": "I0tRfEu3pdBt",
    "outputId": "ec419a26-cbc1-4818-dbfa-35f305a57813"
   },
   "outputs": [
    {
     "data": {
      "text/plain": [
       "Index(['Unnamed: 0', 'date', 'time', 'comp', 'round', 'day', 'venue', 'result',\n",
       "       'goals_scored', 'goals_conceded', 'opponent', 'expected_goals',\n",
       "       'expected_assists', 'possession', 'attendance', 'captain', 'formation',\n",
       "       'referee', 'shots', 'shots_on_target', 'avg_shot_distance', 'freekicks',\n",
       "       'penaltykicks', 'penaltykicks_opponent', 'season', 'team'],\n",
       "      dtype='object')"
      ]
     },
     "execution_count": 5,
     "metadata": {},
     "output_type": "execute_result"
    }
   ],
   "source": [
    "df.columns"
   ]
  },
  {
   "cell_type": "code",
   "execution_count": 6,
   "metadata": {
    "colab": {
     "base_uri": "https://localhost:8080/",
     "height": 242
    },
    "id": "PwGNI2uRYmI4",
    "outputId": "c7f6b03a-1ef4-458f-fad3-8b65f43361b1"
   },
   "outputs": [
    {
     "data": {
      "text/html": [
       "<div>\n",
       "<style scoped>\n",
       "    .dataframe tbody tr th:only-of-type {\n",
       "        vertical-align: middle;\n",
       "    }\n",
       "\n",
       "    .dataframe tbody tr th {\n",
       "        vertical-align: top;\n",
       "    }\n",
       "\n",
       "    .dataframe thead th {\n",
       "        text-align: right;\n",
       "    }\n",
       "</style>\n",
       "<table border=\"1\" class=\"dataframe\">\n",
       "  <thead>\n",
       "    <tr style=\"text-align: right;\">\n",
       "      <th></th>\n",
       "      <th>date</th>\n",
       "      <th>time</th>\n",
       "      <th>comp</th>\n",
       "      <th>round</th>\n",
       "      <th>day</th>\n",
       "      <th>venue</th>\n",
       "      <th>result</th>\n",
       "      <th>goals_scored</th>\n",
       "      <th>goals_conceded</th>\n",
       "      <th>opponent</th>\n",
       "      <th>...</th>\n",
       "      <th>formation</th>\n",
       "      <th>referee</th>\n",
       "      <th>shots</th>\n",
       "      <th>shots_on_target</th>\n",
       "      <th>avg_shot_distance</th>\n",
       "      <th>freekicks</th>\n",
       "      <th>penaltykicks</th>\n",
       "      <th>penaltykicks_opponent</th>\n",
       "      <th>season</th>\n",
       "      <th>team</th>\n",
       "    </tr>\n",
       "  </thead>\n",
       "  <tbody>\n",
       "    <tr>\n",
       "      <th>0</th>\n",
       "      <td>2023-08-11</td>\n",
       "      <td>20:00</td>\n",
       "      <td>Premier League</td>\n",
       "      <td>Matchweek 1</td>\n",
       "      <td>Fri</td>\n",
       "      <td>Away</td>\n",
       "      <td>W</td>\n",
       "      <td>3.0</td>\n",
       "      <td>0.0</td>\n",
       "      <td>Burnley</td>\n",
       "      <td>...</td>\n",
       "      <td>4-2-3-1</td>\n",
       "      <td>Craig Pawson</td>\n",
       "      <td>17.0</td>\n",
       "      <td>8.0</td>\n",
       "      <td>13.9</td>\n",
       "      <td>0.0</td>\n",
       "      <td>0.0</td>\n",
       "      <td>0.0</td>\n",
       "      <td>2023</td>\n",
       "      <td>Manchester City</td>\n",
       "    </tr>\n",
       "    <tr>\n",
       "      <th>1</th>\n",
       "      <td>2023-08-19</td>\n",
       "      <td>20:00</td>\n",
       "      <td>Premier League</td>\n",
       "      <td>Matchweek 2</td>\n",
       "      <td>Sat</td>\n",
       "      <td>Home</td>\n",
       "      <td>W</td>\n",
       "      <td>1.0</td>\n",
       "      <td>0.0</td>\n",
       "      <td>Newcastle Utd</td>\n",
       "      <td>...</td>\n",
       "      <td>4-2-3-1</td>\n",
       "      <td>Robert Jones</td>\n",
       "      <td>14.0</td>\n",
       "      <td>4.0</td>\n",
       "      <td>17.9</td>\n",
       "      <td>0.0</td>\n",
       "      <td>0.0</td>\n",
       "      <td>0.0</td>\n",
       "      <td>2023</td>\n",
       "      <td>Manchester City</td>\n",
       "    </tr>\n",
       "    <tr>\n",
       "      <th>2</th>\n",
       "      <td>2023-08-27</td>\n",
       "      <td>14:00</td>\n",
       "      <td>Premier League</td>\n",
       "      <td>Matchweek 3</td>\n",
       "      <td>Sun</td>\n",
       "      <td>Away</td>\n",
       "      <td>W</td>\n",
       "      <td>2.0</td>\n",
       "      <td>1.0</td>\n",
       "      <td>Sheffield Utd</td>\n",
       "      <td>...</td>\n",
       "      <td>4-2-3-1</td>\n",
       "      <td>Jarred Gillett</td>\n",
       "      <td>29.0</td>\n",
       "      <td>9.0</td>\n",
       "      <td>17.3</td>\n",
       "      <td>2.0</td>\n",
       "      <td>0.0</td>\n",
       "      <td>1.0</td>\n",
       "      <td>2023</td>\n",
       "      <td>Manchester City</td>\n",
       "    </tr>\n",
       "  </tbody>\n",
       "</table>\n",
       "<p>3 rows × 25 columns</p>\n",
       "</div>"
      ],
      "text/plain": [
       "         date   time            comp        round  day venue result  \\\n",
       "0  2023-08-11  20:00  Premier League  Matchweek 1  Fri  Away      W   \n",
       "1  2023-08-19  20:00  Premier League  Matchweek 2  Sat  Home      W   \n",
       "2  2023-08-27  14:00  Premier League  Matchweek 3  Sun  Away      W   \n",
       "\n",
       "   goals_scored  goals_conceded       opponent  ...  formation  \\\n",
       "0           3.0             0.0        Burnley  ...    4-2-3-1   \n",
       "1           1.0             0.0  Newcastle Utd  ...    4-2-3-1   \n",
       "2           2.0             1.0  Sheffield Utd  ...    4-2-3-1   \n",
       "\n",
       "          referee  shots  shots_on_target avg_shot_distance freekicks  \\\n",
       "0    Craig Pawson   17.0              8.0              13.9       0.0   \n",
       "1    Robert Jones   14.0              4.0              17.9       0.0   \n",
       "2  Jarred Gillett   29.0              9.0              17.3       2.0   \n",
       "\n",
       "  penaltykicks  penaltykicks_opponent  season             team  \n",
       "0          0.0                    0.0    2023  Manchester City  \n",
       "1          0.0                    0.0    2023  Manchester City  \n",
       "2          0.0                    1.0    2023  Manchester City  \n",
       "\n",
       "[3 rows x 25 columns]"
      ]
     },
     "execution_count": 6,
     "metadata": {},
     "output_type": "execute_result"
    }
   ],
   "source": [
    "df.drop(['Unnamed: 0'], axis=1, inplace= True)\n",
    "df.head(3)"
   ]
  },
  {
   "cell_type": "markdown",
   "metadata": {
    "id": "NqdPvwSvaPEK"
   },
   "source": [
    "# Exploratory Data Analysis"
   ]
  },
  {
   "cell_type": "markdown",
   "metadata": {
    "id": "otPNH5ueiX-Q"
   },
   "source": [
    "## 1. Goals Scored Home vs. Away"
   ]
  },
  {
   "cell_type": "code",
   "execution_count": 7,
   "metadata": {
    "colab": {
     "base_uri": "https://localhost:8080/",
     "height": 204
    },
    "id": "R9OsCqWVpjBs",
    "outputId": "d6b549cd-d45b-4684-b460-f21456f95e36"
   },
   "outputs": [
    {
     "data": {
      "text/html": [
       "<div>\n",
       "<style scoped>\n",
       "    .dataframe tbody tr th:only-of-type {\n",
       "        vertical-align: middle;\n",
       "    }\n",
       "\n",
       "    .dataframe tbody tr th {\n",
       "        vertical-align: top;\n",
       "    }\n",
       "\n",
       "    .dataframe thead th {\n",
       "        text-align: right;\n",
       "    }\n",
       "</style>\n",
       "<table border=\"1\" class=\"dataframe\">\n",
       "  <thead>\n",
       "    <tr style=\"text-align: right;\">\n",
       "      <th></th>\n",
       "      <th>Teams</th>\n",
       "      <th>all_goals</th>\n",
       "    </tr>\n",
       "  </thead>\n",
       "  <tbody>\n",
       "    <tr>\n",
       "      <th>0</th>\n",
       "      <td>Manchester City</td>\n",
       "      <td>392.0</td>\n",
       "    </tr>\n",
       "    <tr>\n",
       "      <th>1</th>\n",
       "      <td>Tottenham Hotspur</td>\n",
       "      <td>281.0</td>\n",
       "    </tr>\n",
       "    <tr>\n",
       "      <th>2</th>\n",
       "      <td>Liverpool</td>\n",
       "      <td>334.0</td>\n",
       "    </tr>\n",
       "    <tr>\n",
       "      <th>3</th>\n",
       "      <td>Arsenal</td>\n",
       "      <td>269.0</td>\n",
       "    </tr>\n",
       "    <tr>\n",
       "      <th>4</th>\n",
       "      <td>Brighton and Hove Albion</td>\n",
       "      <td>208.0</td>\n",
       "    </tr>\n",
       "  </tbody>\n",
       "</table>\n",
       "</div>"
      ],
      "text/plain": [
       "                      Teams  all_goals\n",
       "0           Manchester City      392.0\n",
       "1         Tottenham Hotspur      281.0\n",
       "2                 Liverpool      334.0\n",
       "3                   Arsenal      269.0\n",
       "4  Brighton and Hove Albion      208.0"
      ]
     },
     "execution_count": 7,
     "metadata": {},
     "output_type": "execute_result"
    }
   ],
   "source": [
    "jj= df[\"team\"].unique().tolist()\n",
    "all_goals = []\n",
    "new_df ={}\n",
    "for i in range(len(jj)):\n",
    "  all_goals.append(df[df[\"team\"].str.contains(jj[i])][\"goals_scored\"].sum())\n",
    "\n",
    "new_df={\"Teams\": jj ,\"all_goals\": all_goals}\n",
    "\n",
    "new_df = pd.DataFrame(new_df)\n",
    "new_df.head()"
   ]
  },
  {
   "cell_type": "code",
   "execution_count": 8,
   "metadata": {
    "colab": {
     "base_uri": "https://localhost:8080/"
    },
    "id": "lrHpe9V5iXsg",
    "outputId": "a4fbb85a-7a37-4c99-ea6b-292c85abd64a"
   },
   "outputs": [
    {
     "data": {
      "text/plain": [
       "392.0"
      ]
     },
     "execution_count": 8,
     "metadata": {},
     "output_type": "execute_result"
    }
   ],
   "source": [
    "df[df[\"team\"].str.contains(jj[0])][\"goals_scored\"].sum()"
   ]
  },
  {
   "cell_type": "code",
   "execution_count": 9,
   "metadata": {
    "colab": {
     "base_uri": "https://localhost:8080/"
    },
    "id": "AKOTgiiXrO-a",
    "outputId": "db194b11-3f23-47ed-bc1f-016df04abfa1"
   },
   "outputs": [
    {
     "data": {
      "text/plain": [
       "0.0"
      ]
     },
     "execution_count": 9,
     "metadata": {},
     "output_type": "execute_result"
    }
   ],
   "source": [
    "df[df[\"venue\"].str.contains(jj[0])][\"goals_scored\"].sum()"
   ]
  },
  {
   "cell_type": "code",
   "execution_count": 10,
   "metadata": {
    "id": "ipmQOoierU37"
   },
   "outputs": [],
   "source": [
    "Away_matches = df[df[\"venue\"].str.contains(\"Away\")]\n",
    "home_matches = df[df[\"venue\"].str.contains(\"Home\")]"
   ]
  },
  {
   "cell_type": "code",
   "execution_count": 11,
   "metadata": {
    "id": "qLEKnQUZriVC"
   },
   "outputs": [],
   "source": [
    "all_goals = []\n",
    "Away_goals = []\n",
    "Home_goals = []\n",
    "new_df ={}\n",
    "for i in range(len(jj)):\n",
    "  all_goals.append(df[df[\"team\"].str.contains(jj[i])][\"goals_scored\"].sum())\n",
    "  Away_goals.append(Away_matches[Away_matches[\"team\"].str.contains(jj[i])][\"goals_scored\"].sum())\n",
    "  Home_goals.append(home_matches[home_matches[\"team\"].str.contains(jj[i])][\"goals_scored\"].sum())\n",
    "\n",
    "new_df={\"Teams\": jj ,\"Away\": Away_goals,\"Home_goals\":Home_goals ,\"all_goals\": all_goals}\n",
    "\n",
    "new_df = pd.DataFrame(new_df)\n",
    "new_df.sort_values(by= \"Away\", ascending= False, inplace= True)"
   ]
  },
  {
   "cell_type": "code",
   "execution_count": 12,
   "metadata": {
    "id": "YgE1j1Mdrpcm"
   },
   "outputs": [],
   "source": [
    "new_df.sort_values(by =\"all_goals\", ascending=False, inplace= True)"
   ]
  },
  {
   "cell_type": "code",
   "execution_count": 13,
   "metadata": {
    "colab": {
     "base_uri": "https://localhost:8080/",
     "height": 204
    },
    "id": "ku7B0l1IruYQ",
    "outputId": "3e909d4a-0796-41c9-c559-1750b427458e"
   },
   "outputs": [
    {
     "data": {
      "text/html": [
       "<div>\n",
       "<style scoped>\n",
       "    .dataframe tbody tr th:only-of-type {\n",
       "        vertical-align: middle;\n",
       "    }\n",
       "\n",
       "    .dataframe tbody tr th {\n",
       "        vertical-align: top;\n",
       "    }\n",
       "\n",
       "    .dataframe thead th {\n",
       "        text-align: right;\n",
       "    }\n",
       "</style>\n",
       "<table border=\"1\" class=\"dataframe\">\n",
       "  <thead>\n",
       "    <tr style=\"text-align: right;\">\n",
       "      <th></th>\n",
       "      <th>Teams</th>\n",
       "      <th>Away</th>\n",
       "      <th>Home_goals</th>\n",
       "      <th>all_goals</th>\n",
       "    </tr>\n",
       "  </thead>\n",
       "  <tbody>\n",
       "    <tr>\n",
       "      <th>0</th>\n",
       "      <td>Manchester City</td>\n",
       "      <td>168.0</td>\n",
       "      <td>224.0</td>\n",
       "      <td>392.0</td>\n",
       "    </tr>\n",
       "    <tr>\n",
       "      <th>2</th>\n",
       "      <td>Liverpool</td>\n",
       "      <td>152.0</td>\n",
       "      <td>182.0</td>\n",
       "      <td>334.0</td>\n",
       "    </tr>\n",
       "    <tr>\n",
       "      <th>1</th>\n",
       "      <td>Tottenham Hotspur</td>\n",
       "      <td>131.0</td>\n",
       "      <td>150.0</td>\n",
       "      <td>281.0</td>\n",
       "    </tr>\n",
       "    <tr>\n",
       "      <th>3</th>\n",
       "      <td>Arsenal</td>\n",
       "      <td>114.0</td>\n",
       "      <td>155.0</td>\n",
       "      <td>269.0</td>\n",
       "    </tr>\n",
       "    <tr>\n",
       "      <th>12</th>\n",
       "      <td>Manchester United</td>\n",
       "      <td>109.0</td>\n",
       "      <td>151.0</td>\n",
       "      <td>260.0</td>\n",
       "    </tr>\n",
       "  </tbody>\n",
       "</table>\n",
       "</div>"
      ],
      "text/plain": [
       "                Teams   Away  Home_goals  all_goals\n",
       "0     Manchester City  168.0       224.0      392.0\n",
       "2           Liverpool  152.0       182.0      334.0\n",
       "1   Tottenham Hotspur  131.0       150.0      281.0\n",
       "3             Arsenal  114.0       155.0      269.0\n",
       "12  Manchester United  109.0       151.0      260.0"
      ]
     },
     "execution_count": 13,
     "metadata": {},
     "output_type": "execute_result"
    }
   ],
   "source": [
    "new_df.head()"
   ]
  },
  {
   "cell_type": "code",
   "execution_count": 14,
   "metadata": {
    "colab": {
     "base_uri": "https://localhost:8080/",
     "height": 506
    },
    "id": "EaGgGxQIrzVq",
    "outputId": "b8782814-b9b9-44fb-ee1f-548a81223329"
   },
   "outputs": [
    {
     "data": {
      "image/png": "[encoded data removed]",
      "text/plain": [
       "<Figure size 1440x720 with 1 Axes>"
      ]
     },
     "metadata": {
      "needs_background": "light"
     },
     "output_type": "display_data"
    }
   ],
   "source": [
    "plt.figure(figsize=(20,10))\n",
    "\n",
    "Teams = new_df[\"Teams\"].head(10).tolist()\n",
    "Away_goals= new_df[\"Away\"].head(10).tolist()\n",
    "Home_goals= new_df[\"Home_goals\"].head(10).tolist()\n",
    "\n",
    "X_axis = np.arange(len(Teams))\n",
    "\n",
    "plt.barh(X_axis-.04, Home_goals, 0.4, label = 'Home Goals')\n",
    "plt.barh(X_axis+0.4, Away_goals, 0.4, label = 'Away Goals')\n",
    "plt.yticks( X_axis, Teams)\n",
    "plt.xlabel(\"Goals\")\n",
    "plt.ylabel(\"Teams\")\n",
    "plt.title(\"Top 10 Goal Scorer\")\n",
    "plt.gca().invert_yaxis()\n",
    "plt.legend()\n",
    "plt.show()\n"
   ]
  },
  {
   "cell_type": "markdown",
   "metadata": {},
   "source": [
    "## Description\n",
    "This bar plot illustrates the leading goal scorers in the Premier League, with Manchester City at the top. Notably, Manchester City's dominance is emphasized by the significantly higher number of home goals compared to away goals, showcasing their formidable home advantage. Brighton and Hove Albion also make the top 5, with a similar focus on home goals."
   ]
  },
  {
   "cell_type": "markdown",
   "metadata": {
    "id": "2QJhQHRUiXji"
   },
   "source": [
    "## 2. Finding the best 5 teams across the seasons"
   ]
  },
  {
   "cell_type": "code",
   "execution_count": 15,
   "metadata": {
    "colab": {
     "base_uri": "https://localhost:8080/"
    },
    "id": "c_3-BuFEwZ03",
    "outputId": "e625572c-332c-46d6-8556-8be76b87b051"
   },
   "outputs": [
    {
     "data": {
      "text/plain": [
       "Index(['date', 'time', 'comp', 'round', 'day', 'venue', 'result',\n",
       "       'goals_scored', 'goals_conceded', 'opponent', 'expected_goals',\n",
       "       'expected_assists', 'possession', 'attendance', 'captain', 'formation',\n",
       "       'referee', 'shots', 'shots_on_target', 'avg_shot_distance', 'freekicks',\n",
       "       'penaltykicks', 'penaltykicks_opponent', 'season', 'team'],\n",
       "      dtype='object')"
      ]
     },
     "execution_count": 15,
     "metadata": {},
     "output_type": "execute_result"
    }
   ],
   "source": [
    "#df = pd.read_csv(r\"matches.csv\")\n",
    "df.columns"
   ]
  },
  {
   "cell_type": "code",
   "execution_count": 16,
   "metadata": {},
   "outputs": [
    {
     "data": {
      "text/html": [
       "<div>\n",
       "<style scoped>\n",
       "    .dataframe tbody tr th:only-of-type {\n",
       "        vertical-align: middle;\n",
       "    }\n",
       "\n",
       "    .dataframe tbody tr th {\n",
       "        vertical-align: top;\n",
       "    }\n",
       "\n",
       "    .dataframe thead th {\n",
       "        text-align: right;\n",
       "    }\n",
       "</style>\n",
       "<table border=\"1\" class=\"dataframe\">\n",
       "  <thead>\n",
       "    <tr style=\"text-align: right;\">\n",
       "      <th></th>\n",
       "      <th>date</th>\n",
       "      <th>time</th>\n",
       "      <th>comp</th>\n",
       "      <th>round</th>\n",
       "      <th>day</th>\n",
       "      <th>venue</th>\n",
       "      <th>result</th>\n",
       "      <th>goals_scored</th>\n",
       "      <th>goals_conceded</th>\n",
       "      <th>opponent</th>\n",
       "      <th>...</th>\n",
       "      <th>formation</th>\n",
       "      <th>referee</th>\n",
       "      <th>shots</th>\n",
       "      <th>shots_on_target</th>\n",
       "      <th>avg_shot_distance</th>\n",
       "      <th>freekicks</th>\n",
       "      <th>penaltykicks</th>\n",
       "      <th>penaltykicks_opponent</th>\n",
       "      <th>season</th>\n",
       "      <th>team</th>\n",
       "    </tr>\n",
       "  </thead>\n",
       "  <tbody>\n",
       "    <tr>\n",
       "      <th>0</th>\n",
       "      <td>2023-08-11</td>\n",
       "      <td>20:00</td>\n",
       "      <td>Premier League</td>\n",
       "      <td>Matchweek 1</td>\n",
       "      <td>Fri</td>\n",
       "      <td>Away</td>\n",
       "      <td>W</td>\n",
       "      <td>3.0</td>\n",
       "      <td>0.0</td>\n",
       "      <td>Burnley</td>\n",
       "      <td>...</td>\n",
       "      <td>4-2-3-1</td>\n",
       "      <td>Craig Pawson</td>\n",
       "      <td>17.0</td>\n",
       "      <td>8.0</td>\n",
       "      <td>13.9</td>\n",
       "      <td>0.0</td>\n",
       "      <td>0.0</td>\n",
       "      <td>0.0</td>\n",
       "      <td>2023</td>\n",
       "      <td>Manchester City</td>\n",
       "    </tr>\n",
       "    <tr>\n",
       "      <th>1</th>\n",
       "      <td>2023-08-19</td>\n",
       "      <td>20:00</td>\n",
       "      <td>Premier League</td>\n",
       "      <td>Matchweek 2</td>\n",
       "      <td>Sat</td>\n",
       "      <td>Home</td>\n",
       "      <td>W</td>\n",
       "      <td>1.0</td>\n",
       "      <td>0.0</td>\n",
       "      <td>Newcastle Utd</td>\n",
       "      <td>...</td>\n",
       "      <td>4-2-3-1</td>\n",
       "      <td>Robert Jones</td>\n",
       "      <td>14.0</td>\n",
       "      <td>4.0</td>\n",
       "      <td>17.9</td>\n",
       "      <td>0.0</td>\n",
       "      <td>0.0</td>\n",
       "      <td>0.0</td>\n",
       "      <td>2023</td>\n",
       "      <td>Manchester City</td>\n",
       "    </tr>\n",
       "    <tr>\n",
       "      <th>2</th>\n",
       "      <td>2023-08-27</td>\n",
       "      <td>14:00</td>\n",
       "      <td>Premier League</td>\n",
       "      <td>Matchweek 3</td>\n",
       "      <td>Sun</td>\n",
       "      <td>Away</td>\n",
       "      <td>W</td>\n",
       "      <td>2.0</td>\n",
       "      <td>1.0</td>\n",
       "      <td>Sheffield Utd</td>\n",
       "      <td>...</td>\n",
       "      <td>4-2-3-1</td>\n",
       "      <td>Jarred Gillett</td>\n",
       "      <td>29.0</td>\n",
       "      <td>9.0</td>\n",
       "      <td>17.3</td>\n",
       "      <td>2.0</td>\n",
       "      <td>0.0</td>\n",
       "      <td>1.0</td>\n",
       "      <td>2023</td>\n",
       "      <td>Manchester City</td>\n",
       "    </tr>\n",
       "    <tr>\n",
       "      <th>3</th>\n",
       "      <td>2023-09-02</td>\n",
       "      <td>15:00</td>\n",
       "      <td>Premier League</td>\n",
       "      <td>Matchweek 4</td>\n",
       "      <td>Sat</td>\n",
       "      <td>Home</td>\n",
       "      <td>W</td>\n",
       "      <td>5.0</td>\n",
       "      <td>1.0</td>\n",
       "      <td>Fulham</td>\n",
       "      <td>...</td>\n",
       "      <td>4-2-3-1</td>\n",
       "      <td>Michael Oliver</td>\n",
       "      <td>6.0</td>\n",
       "      <td>4.0</td>\n",
       "      <td>14.8</td>\n",
       "      <td>0.0</td>\n",
       "      <td>1.0</td>\n",
       "      <td>1.0</td>\n",
       "      <td>2023</td>\n",
       "      <td>Manchester City</td>\n",
       "    </tr>\n",
       "    <tr>\n",
       "      <th>4</th>\n",
       "      <td>2023-09-16</td>\n",
       "      <td>15:00</td>\n",
       "      <td>Premier League</td>\n",
       "      <td>Matchweek 5</td>\n",
       "      <td>Sat</td>\n",
       "      <td>Away</td>\n",
       "      <td>W</td>\n",
       "      <td>3.0</td>\n",
       "      <td>1.0</td>\n",
       "      <td>West Ham</td>\n",
       "      <td>...</td>\n",
       "      <td>4-2-3-1</td>\n",
       "      <td>Andy Madley</td>\n",
       "      <td>29.0</td>\n",
       "      <td>13.0</td>\n",
       "      <td>16.4</td>\n",
       "      <td>1.0</td>\n",
       "      <td>0.0</td>\n",
       "      <td>0.0</td>\n",
       "      <td>2023</td>\n",
       "      <td>Manchester City</td>\n",
       "    </tr>\n",
       "  </tbody>\n",
       "</table>\n",
       "<p>5 rows × 25 columns</p>\n",
       "</div>"
      ],
      "text/plain": [
       "         date   time            comp        round  day venue result  \\\n",
       "0  2023-08-11  20:00  Premier League  Matchweek 1  Fri  Away      W   \n",
       "1  2023-08-19  20:00  Premier League  Matchweek 2  Sat  Home      W   \n",
       "2  2023-08-27  14:00  Premier League  Matchweek 3  Sun  Away      W   \n",
       "3  2023-09-02  15:00  Premier League  Matchweek 4  Sat  Home      W   \n",
       "4  2023-09-16  15:00  Premier League  Matchweek 5  Sat  Away      W   \n",
       "\n",
       "   goals_scored  goals_conceded       opponent  ...  formation  \\\n",
       "0           3.0             0.0        Burnley  ...    4-2-3-1   \n",
       "1           1.0             0.0  Newcastle Utd  ...    4-2-3-1   \n",
       "2           2.0             1.0  Sheffield Utd  ...    4-2-3-1   \n",
       "3           5.0             1.0         Fulham  ...    4-2-3-1   \n",
       "4           3.0             1.0       West Ham  ...    4-2-3-1   \n",
       "\n",
       "          referee  shots  shots_on_target avg_shot_distance freekicks  \\\n",
       "0    Craig Pawson   17.0              8.0              13.9       0.0   \n",
       "1    Robert Jones   14.0              4.0              17.9       0.0   \n",
       "2  Jarred Gillett   29.0              9.0              17.3       2.0   \n",
       "3  Michael Oliver    6.0              4.0              14.8       0.0   \n",
       "4     Andy Madley   29.0             13.0              16.4       1.0   \n",
       "\n",
       "  penaltykicks  penaltykicks_opponent  season             team  \n",
       "0          0.0                    0.0    2023  Manchester City  \n",
       "1          0.0                    0.0    2023  Manchester City  \n",
       "2          0.0                    1.0    2023  Manchester City  \n",
       "3          1.0                    1.0    2023  Manchester City  \n",
       "4          0.0                    0.0    2023  Manchester City  \n",
       "\n",
       "[5 rows x 25 columns]"
      ]
     },
     "execution_count": 16,
     "metadata": {},
     "output_type": "execute_result"
    }
   ],
   "source": [
    "df.head()"
   ]
  },
  {
   "cell_type": "markdown",
   "metadata": {},
   "source": [
    "### Description\n",
    "Every season, bottom 3 teams are relegated (demoted) to a lower level and 3 new teams from the lower league are promoted to the premier league.\n",
    "\n",
    "Liverpool won the last season but which team is the best when it comes to overall seasons?\n",
    "Let's find out"
   ]
  },
  {
   "cell_type": "markdown",
   "metadata": {},
   "source": [
    "# Grouping Data based on Team"
   ]
  },
  {
   "cell_type": "code",
   "execution_count": 29,
   "metadata": {
    "colab": {
     "base_uri": "https://localhost:8080/",
     "height": 487
    },
    "id": "kOaB_q6Hve6V",
    "outputId": "6563f29d-9f45-401e-cc93-36ee0178916e"
   },
   "outputs": [],
   "source": [
    "#query1 = \"SELECT team, COUNT(*) as Matches_Played FROM df GROUP BY team ORDER BY COUNT(*) DESC;\"\n",
    "query1 = \"SELECT team, count(*) as Matches_Played FROM df Group By team order by count(*) desc\"\n",
    "result1 = sqldf(query1)\n",
    "#result1"
   ]
  },
  {
   "cell_type": "markdown",
   "metadata": {},
   "source": [
    "# Finding total matches won by each team"
   ]
  },
  {
   "cell_type": "code",
   "execution_count": 19,
   "metadata": {
    "id": "BDYx1kNgw-wq"
   },
   "outputs": [
    {
     "data": {
      "text/html": [
       "<div>\n",
       "<style scoped>\n",
       "    .dataframe tbody tr th:only-of-type {\n",
       "        vertical-align: middle;\n",
       "    }\n",
       "\n",
       "    .dataframe tbody tr th {\n",
       "        vertical-align: top;\n",
       "    }\n",
       "\n",
       "    .dataframe thead th {\n",
       "        text-align: right;\n",
       "    }\n",
       "</style>\n",
       "<table border=\"1\" class=\"dataframe\">\n",
       "  <thead>\n",
       "    <tr style=\"text-align: right;\">\n",
       "      <th></th>\n",
       "      <th>team</th>\n",
       "      <th>Matches_Won</th>\n",
       "    </tr>\n",
       "  </thead>\n",
       "  <tbody>\n",
       "    <tr>\n",
       "      <th>0</th>\n",
       "      <td>Manchester City</td>\n",
       "      <td>115</td>\n",
       "    </tr>\n",
       "    <tr>\n",
       "      <th>1</th>\n",
       "      <td>Liverpool</td>\n",
       "      <td>103</td>\n",
       "    </tr>\n",
       "    <tr>\n",
       "      <th>2</th>\n",
       "      <td>Arsenal</td>\n",
       "      <td>84</td>\n",
       "    </tr>\n",
       "    <tr>\n",
       "      <th>3</th>\n",
       "      <td>Manchester United</td>\n",
       "      <td>80</td>\n",
       "    </tr>\n",
       "    <tr>\n",
       "      <th>4</th>\n",
       "      <td>Tottenham Hotspur</td>\n",
       "      <td>78</td>\n",
       "    </tr>\n",
       "    <tr>\n",
       "      <th>5</th>\n",
       "      <td>Chelsea</td>\n",
       "      <td>72</td>\n",
       "    </tr>\n",
       "    <tr>\n",
       "      <th>6</th>\n",
       "      <td>Leicester City</td>\n",
       "      <td>61</td>\n",
       "    </tr>\n",
       "    <tr>\n",
       "      <th>7</th>\n",
       "      <td>West Ham United</td>\n",
       "      <td>59</td>\n",
       "    </tr>\n",
       "    <tr>\n",
       "      <th>8</th>\n",
       "      <td>Aston Villa</td>\n",
       "      <td>59</td>\n",
       "    </tr>\n",
       "    <tr>\n",
       "      <th>9</th>\n",
       "      <td>Newcastle United</td>\n",
       "      <td>57</td>\n",
       "    </tr>\n",
       "    <tr>\n",
       "      <th>10</th>\n",
       "      <td>Wolverhampton Wanderers</td>\n",
       "      <td>54</td>\n",
       "    </tr>\n",
       "    <tr>\n",
       "      <th>11</th>\n",
       "      <td>Brighton and Hove Albion</td>\n",
       "      <td>52</td>\n",
       "    </tr>\n",
       "    <tr>\n",
       "      <th>12</th>\n",
       "      <td>Everton</td>\n",
       "      <td>49</td>\n",
       "    </tr>\n",
       "    <tr>\n",
       "      <th>13</th>\n",
       "      <td>Crystal Palace</td>\n",
       "      <td>47</td>\n",
       "    </tr>\n",
       "    <tr>\n",
       "      <th>14</th>\n",
       "      <td>Southampton</td>\n",
       "      <td>42</td>\n",
       "    </tr>\n",
       "    <tr>\n",
       "      <th>15</th>\n",
       "      <td>Leeds United</td>\n",
       "      <td>34</td>\n",
       "    </tr>\n",
       "    <tr>\n",
       "      <th>16</th>\n",
       "      <td>Burnley</td>\n",
       "      <td>32</td>\n",
       "    </tr>\n",
       "    <tr>\n",
       "      <th>17</th>\n",
       "      <td>Brentford</td>\n",
       "      <td>29</td>\n",
       "    </tr>\n",
       "    <tr>\n",
       "      <th>18</th>\n",
       "      <td>Fulham</td>\n",
       "      <td>22</td>\n",
       "    </tr>\n",
       "    <tr>\n",
       "      <th>19</th>\n",
       "      <td>Sheffield United</td>\n",
       "      <td>21</td>\n",
       "    </tr>\n",
       "    <tr>\n",
       "      <th>20</th>\n",
       "      <td>Bournemouth</td>\n",
       "      <td>20</td>\n",
       "    </tr>\n",
       "    <tr>\n",
       "      <th>21</th>\n",
       "      <td>Watford</td>\n",
       "      <td>14</td>\n",
       "    </tr>\n",
       "    <tr>\n",
       "      <th>22</th>\n",
       "      <td>Nottingham Forest</td>\n",
       "      <td>11</td>\n",
       "    </tr>\n",
       "    <tr>\n",
       "      <th>23</th>\n",
       "      <td>Norwich City</td>\n",
       "      <td>10</td>\n",
       "    </tr>\n",
       "    <tr>\n",
       "      <th>24</th>\n",
       "      <td>West Bromwich Albion</td>\n",
       "      <td>5</td>\n",
       "    </tr>\n",
       "  </tbody>\n",
       "</table>\n",
       "</div>"
      ],
      "text/plain": [
       "                        team  Matches_Won\n",
       "0            Manchester City          115\n",
       "1                  Liverpool          103\n",
       "2                    Arsenal           84\n",
       "3          Manchester United           80\n",
       "4          Tottenham Hotspur           78\n",
       "5                    Chelsea           72\n",
       "6             Leicester City           61\n",
       "7            West Ham United           59\n",
       "8                Aston Villa           59\n",
       "9           Newcastle United           57\n",
       "10   Wolverhampton Wanderers           54\n",
       "11  Brighton and Hove Albion           52\n",
       "12                   Everton           49\n",
       "13            Crystal Palace           47\n",
       "14               Southampton           42\n",
       "15              Leeds United           34\n",
       "16                   Burnley           32\n",
       "17                 Brentford           29\n",
       "18                    Fulham           22\n",
       "19          Sheffield United           21\n",
       "20               Bournemouth           20\n",
       "21                   Watford           14\n",
       "22         Nottingham Forest           11\n",
       "23              Norwich City           10\n",
       "24      West Bromwich Albion            5"
      ]
     },
     "execution_count": 19,
     "metadata": {},
     "output_type": "execute_result"
    }
   ],
   "source": [
    "query2 = \"SELECT team, count(*) as Matches_Won FROM df where result ='W' Group By team order by count(*) desc\"\n",
    "result2 = sqldf(query2)\n",
    "result2"
   ]
  },
  {
   "cell_type": "markdown",
   "metadata": {},
   "source": [
    "# Joining Data to get combined result"
   ]
  },
  {
   "cell_type": "code",
   "execution_count": 20,
   "metadata": {
    "id": "08CtZlDFxHta"
   },
   "outputs": [],
   "source": [
    "query3 = 'SELECT a.team as Team, a.Matches_Played, b.Matches_Won FROM result1 a join result2 b on a.team=b.team'\n",
    "result3 = sqldf(query3)"
   ]
  },
  {
   "cell_type": "code",
   "execution_count": 21,
   "metadata": {
    "id": "5_QRUb0-xLtT"
   },
   "outputs": [],
   "source": [
    "result3['Win Percentage'] = round(result3['Matches_Won']/result3['Matches_Played'],2)*100"
   ]
  },
  {
   "cell_type": "markdown",
   "metadata": {},
   "source": [
    "# Fetching Top 5 clubs"
   ]
  },
  {
   "cell_type": "code",
   "execution_count": 22,
   "metadata": {
    "id": "SHo9cyFoxT5B"
   },
   "outputs": [],
   "source": [
    "result3 = result3.sort_values(by=['Win Percentage'],ascending=False).head(5)"
   ]
  },
  {
   "cell_type": "code",
   "execution_count": 23,
   "metadata": {
    "id": "O0UsN0lHxV4O"
   },
   "outputs": [
    {
     "data": {
      "text/html": [
       "<div>\n",
       "<style scoped>\n",
       "    .dataframe tbody tr th:only-of-type {\n",
       "        vertical-align: middle;\n",
       "    }\n",
       "\n",
       "    .dataframe tbody tr th {\n",
       "        vertical-align: top;\n",
       "    }\n",
       "\n",
       "    .dataframe thead th {\n",
       "        text-align: right;\n",
       "    }\n",
       "</style>\n",
       "<table border=\"1\" class=\"dataframe\">\n",
       "  <thead>\n",
       "    <tr style=\"text-align: right;\">\n",
       "      <th></th>\n",
       "      <th>Team</th>\n",
       "      <th>Matches_Played</th>\n",
       "      <th>Matches_Won</th>\n",
       "      <th>Win Percentage</th>\n",
       "    </tr>\n",
       "  </thead>\n",
       "  <tbody>\n",
       "    <tr>\n",
       "      <th>5</th>\n",
       "      <td>Manchester City</td>\n",
       "      <td>157</td>\n",
       "      <td>115</td>\n",
       "      <td>73.0</td>\n",
       "    </tr>\n",
       "    <tr>\n",
       "      <th>6</th>\n",
       "      <td>Liverpool</td>\n",
       "      <td>157</td>\n",
       "      <td>103</td>\n",
       "      <td>66.0</td>\n",
       "    </tr>\n",
       "    <tr>\n",
       "      <th>12</th>\n",
       "      <td>Arsenal</td>\n",
       "      <td>157</td>\n",
       "      <td>84</td>\n",
       "      <td>54.0</td>\n",
       "    </tr>\n",
       "    <tr>\n",
       "      <th>4</th>\n",
       "      <td>Manchester United</td>\n",
       "      <td>157</td>\n",
       "      <td>80</td>\n",
       "      <td>51.0</td>\n",
       "    </tr>\n",
       "    <tr>\n",
       "      <th>2</th>\n",
       "      <td>Tottenham Hotspur</td>\n",
       "      <td>157</td>\n",
       "      <td>78</td>\n",
       "      <td>50.0</td>\n",
       "    </tr>\n",
       "  </tbody>\n",
       "</table>\n",
       "</div>"
      ],
      "text/plain": [
       "                 Team  Matches_Played  Matches_Won  Win Percentage\n",
       "5     Manchester City             157          115            73.0\n",
       "6           Liverpool             157          103            66.0\n",
       "12            Arsenal             157           84            54.0\n",
       "4   Manchester United             157           80            51.0\n",
       "2   Tottenham Hotspur             157           78            50.0"
      ]
     },
     "execution_count": 23,
     "metadata": {},
     "output_type": "execute_result"
    }
   ],
   "source": [
    "result3"
   ]
  },
  {
   "cell_type": "markdown",
   "metadata": {},
   "source": [
    "# Plotting Graph"
   ]
  },
  {
   "cell_type": "code",
   "execution_count": 30,
   "metadata": {
    "id": "mA4nJYiRxYRS"
   },
   "outputs": [
    {
     "data": {
      "image/png": "[encoded data removed]",
      "text/plain": [
       "<Figure size 720x360 with 1 Axes>"
      ]
     },
     "metadata": {
      "needs_background": "light"
     },
     "output_type": "display_data"
    }
   ],
   "source": [
    "fig = plt.figure(figsize = (10, 5))\n",
    "\n",
    "# creating the bar plot\n",
    "barlist = plt.barh(result3['Team'], result3['Win Percentage'], color ='blue'\n",
    "                  # ,width = 0.3\n",
    "                  )\n",
    "\n",
    "barlist[0].set_color('#6CABDD')\n",
    "barlist[1].set_color('#C8102E')\n",
    "barlist[2].set_color('#EF0107')\n",
    "barlist[3].set_color('#DA291C')\n",
    "barlist[4].set_color('#132257')\n",
    "\n",
    "#plt.rcParams['axes.facecolor'] = '#FDE5B4'\n",
    "\n",
    "plt.xlabel(\"Win %\",fontweight='bold',fontsize=14.0)\n",
    "#plt.xticks(rotation='vertical')\n",
    "plt.ylabel(\"Teams\",fontweight='bold',fontsize=14.0)\n",
    "plt.title(\"Best Teams Ranked by Win% over 5 seasons\",fontweight='bold',fontsize=14.0)\n",
    "plt.grid(axis='x',color = 'white', linestyle = '--')\n",
    "plt.gca().invert_yaxis()\n",
    "plt.show()"
   ]
  },
  {
   "cell_type": "markdown",
   "metadata": {
    "id": "ROYtIFYUaTD-"
   },
   "source": [
    "## 3. Seasonally scored goals:"
   ]
  },
  {
   "cell_type": "code",
   "execution_count": 25,
   "metadata": {
    "id": "p6OeS-HYfhBS"
   },
   "outputs": [],
   "source": [
    "# Get the Top 10 teams and see their performance with respect to time\n",
    "ttl_goals_per_teams = df.groupby('team')['goals_scored'].sum().reset_index(name='count').sort_values(by='count', ascending=False)\n",
    "ttl_goals_per_teams = ttl_goals_per_teams.reset_index()\n",
    "top = list(ttl_goals_per_teams['team'][:5])\n",
    "\n",
    "# Dataframe of only top 5\n",
    "df2 = df[df['team'].isin(top)]\n",
    "\n",
    "# Dataframe of sum of goals_scored of only top 5 per season\n",
    "t1 = df2.groupby(['team', 'season'])['goals_scored'].sum().reset_index()\n",
    "\n",
    "# Dataframe of avg of goals_scored of only top 5 per season\n",
    "t2 = df2.groupby(['team', 'season'])['goals_scored'].mean().reset_index()\n",
    "\n",
    "# Dataframe of avg of goals_scored of only top 5 per season\n",
    "t3 = df2.groupby(['team', 'round', 'season'])['goals_scored'].mean().reset_index()\n"
   ]
  },
  {
   "cell_type": "markdown",
   "metadata": {
    "id": "vHRXRpgRgKC-"
   },
   "source": [
    "> **Note 1:** The 2023 season is not over yet, and it being shown on the graph might be misleading (as in the teams' seasonal goal scores are getting worse)\n",
    "It might be more maeningful to look at average scored goals to include 2023 in our analysis as well."
   ]
  },
  {
   "cell_type": "code",
   "execution_count": 26,
   "metadata": {
    "id": "1wf5kg_Zfl1M"
   },
   "outputs": [
    {
     "data": {
      "image/png": "[encoded data removed]",
      "text/plain": [
       "<Figure size 432x288 with 1 Axes>"
      ]
     },
     "metadata": {
      "needs_background": "light"
     },
     "output_type": "display_data"
    }
   ],
   "source": [
    "### Sum of seasonally scored goals for top 5:\n",
    "sb.barplot(x = t1[\"season\"], y = t1[\"goals_scored\"], hue = \"team\", data= t1)\n",
    "plt.title('Total Goals Scored by Season for Top 5 EPL Teams')\n",
    "plt.legend(loc='upper right', bbox_to_anchor=(1.4, 1))\n",
    "plt.show()"
   ]
  },
  {
   "cell_type": "markdown",
   "metadata": {
    "id": "yHuXvAaGfnpD"
   },
   "source": [
    "### Description\n",
    "Arsenal and Tottenham Hotspur's performance are slowly increasing over time between 2019 and 2022.\n",
    "Manchester United's performance is increasing from 2019 by a bit in 2020 then decreasing in 2021 to become about the same in 2022\n",
    "Liverpool's seasonal goal scores are decreasing from 2019 to 2020, then increasing in 2021, and decreasing once again in 2022.\n",
    "\n",
    "Overall, it seems that Manchester City, compared to the other top 5 teams, is able to maintain the highest seasonal goals scored from one year to the next.\n",
    "\n",
    "\n",
    "\n",
    "> **Note 2:** We know that goal scores are not typically a float type but for the sake of comparability between 2023 and previous years, we will be using float to talk about average goals scored.\n",
    "\n",
    "\n",
    "\n"
   ]
  },
  {
   "cell_type": "code",
   "execution_count": 27,
   "metadata": {
    "id": "X7mqJCnwfoBq"
   },
   "outputs": [
    {
     "data": {
      "image/png": "[encoded data removed]",
      "text/plain": [
       "<Figure size 432x288 with 1 Axes>"
      ]
     },
     "metadata": {
      "needs_background": "light"
     },
     "output_type": "display_data"
    }
   ],
   "source": [
    "### Seasonally scored goals on average for top 5:\n",
    "sb.barplot(x = t2[\"season\"], y = t2[\"goals_scored\"], hue = \"team\", data= t2)\n",
    "plt.title('Average Goals Scored by Season for Top 5 EPL Teams')\n",
    "plt.legend(loc='upper right', bbox_to_anchor=(1.4, 1))\n",
    "plt.show()"
   ]
  },
  {
   "cell_type": "markdown",
   "metadata": {
    "id": "eSPOaCfthiYs"
   },
   "source": [
    "### Description\n",
    "On average, it seems that Manchester City, compared to the other top5 teams, is able to maintain the highest seasonal goals scored from one year to the next.\n",
    "\n",
    "In 2023, it looks like Tottenham Hotspuris competing fiercely, ranking 2nd on average, as opposed to previous years where it was third or fourth.\n",
    "Liverpool is a strong competitor against Manchester City (1st team) and is ranking either 2nd or 3rd at most.\n",
    "\n",
    "The average goals scored of Manchester United looks like they are decreasing over time. In the last three years, it is even raking the last among the Top 5.\n"
   ]
  },
  {
   "cell_type": "markdown",
   "metadata": {},
   "source": [
    "## 4. ......... [Yashwant add title of your analysis here]"
   ]
  },
  {
   "cell_type": "markdown",
   "metadata": {},
   "source": [
    "# Yashwant Analysis and Visual (to be added)"
   ]
  },
  {
   "cell_type": "markdown",
   "metadata": {
    "id": "qi6wZeqgh43I"
   },
   "source": [
    "## Conclusion\n",
    "\n",
    "In conclusion, Manchester City maintains dominance with consistent high goal-scoring and a strong home advantage. Arsenal and Tottenham show steady improvement, while Manchester United's performance fluctuates. Liverpool's scoring is inconsistent, and Brighton and Hove Albion make a notable appearance. These trends highlight the dynamic nature of Premier League competition from 2019 to 2022."
   ]
  }
 ],
 "metadata": {
  "colab": {
   "collapsed_sections": [
    "UvIClJepg-xa",
    "otPNH5ueiX-Q"
   ],
   "provenance": []
  },
  "kernelspec": {
   "display_name": "Python 3 (ipykernel)",
   "language": "python",
   "name": "python3"
  },
  "language_info": {
   "codemirror_mode": {
    "name": "ipython",
    "version": 3
   },
   "file_extension": ".py",
   "mimetype": "text/x-python",
   "name": "python",
   "nbconvert_exporter": "python",
   "pygments_lexer": "ipython3",
   "version": "3.9.12"
  }
 },
 "nbformat": 4,
 "nbformat_minor": 1
}
